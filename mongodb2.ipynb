{
 "metadata": {
  "name": "",
  "signature": "sha256:0c6aadc2508d69305a6710c2999faaaba5d462f720d2536f0753f071c1827844"
 },
 "nbformat": 3,
 "nbformat_minor": 0,
 "worksheets": [
  {
   "cells": [
    {
     "cell_type": "code",
     "collapsed": false,
     "input": [
      "import pymongo"
     ],
     "language": "python",
     "metadata": {},
     "outputs": [],
     "prompt_number": 1
    },
    {
     "cell_type": "code",
     "collapsed": false,
     "input": [
      "%cd /Users/arzia_000/desktop"
     ],
     "language": "python",
     "metadata": {},
     "outputs": [
      {
       "output_type": "stream",
       "stream": "stdout",
       "text": [
        "C:\\Users\\arzia_000\\desktop\n"
       ]
      }
     ],
     "prompt_number": 2
    },
    {
     "cell_type": "code",
     "collapsed": false,
     "input": [
      "from pymongo import MongoClient\n",
      "client = MongoClient(\"mongodb://localhost:27017/\")"
     ],
     "language": "python",
     "metadata": {},
     "outputs": [],
     "prompt_number": 3
    },
    {
     "cell_type": "code",
     "collapsed": false,
     "input": [
      "db = client.twitter"
     ],
     "language": "python",
     "metadata": {},
     "outputs": [],
     "prompt_number": 4
    },
    {
     "cell_type": "code",
     "collapsed": false,
     "input": [
      "db.tweets.find_one()[\"entities\"][\"user_mentions\"]"
     ],
     "language": "python",
     "metadata": {},
     "outputs": [
      {
       "ename": "AttributeError",
       "evalue": "'dict' object has no attribute 'user_mention'",
       "output_type": "pyerr",
       "traceback": [
        "\u001b[1;31m---------------------------------------------------------------------------\u001b[0m\n\u001b[1;31mAttributeError\u001b[0m                            Traceback (most recent call last)",
        "\u001b[1;32m<ipython-input-13-4eaa9b2c2547>\u001b[0m in \u001b[0;36m<module>\u001b[1;34m()\u001b[0m\n\u001b[1;32m----> 1\u001b[1;33m \u001b[0mdb\u001b[0m\u001b[1;33m.\u001b[0m\u001b[0mtweets\u001b[0m\u001b[1;33m.\u001b[0m\u001b[0mfind_one\u001b[0m\u001b[1;33m(\u001b[0m\u001b[1;33m)\u001b[0m\u001b[1;33m[\u001b[0m\u001b[1;34m\"entities\"\u001b[0m\u001b[1;33m]\u001b[0m\u001b[1;33m.\u001b[0m\u001b[0muser_mention\u001b[0m\u001b[1;33m\u001b[0m\u001b[0m\n\u001b[0m",
        "\u001b[1;31mAttributeError\u001b[0m: 'dict' object has no attribute 'user_mention'"
       ]
      }
     ],
     "prompt_number": 13
    },
    {
     "cell_type": "code",
     "collapsed": false,
     "input": [
      "result = db.tweets.aggregate([\n",
      "    {\"$unwind\":\"$entities.user_mentions\"},\n",
      "    {\"$group\" :{\"_id\":\"$user.screen_name\", \"count\":{\"$sum\":1}} },\n",
      "    {\"$sort\"  :{\"count\":-1}},\n",
      "    {\"$limit\" :5}\n",
      "])\n",
      "\n",
      "import pprint\n",
      "pprint.pprint(result)"
     ],
     "language": "python",
     "metadata": {},
     "outputs": [
      {
       "output_type": "stream",
       "stream": "stdout",
       "text": [
        "{u'ok': 1.0,\n",
        " u'result': [{u'_id': u'MULA_BSB', u'count': 21},\n",
        "             {u'_id': u'ThizBoySwagLoud', u'count': 21},\n",
        "             {u'_id': u'vanilla3450', u'count': 18},\n",
        "             {u'_id': u'Democracy_Work', u'count': 17},\n",
        "             {u'_id': u'FollowersNeeded', u'count': 16}]}\n"
       ]
      }
     ],
     "prompt_number": 21
    },
    {
     "cell_type": "code",
     "collapsed": false,
     "input": [
      "db = client.twitter\n",
      "rs = db.tweets.aggregate([\n",
      "    {\"$unwind\":\"$entities.hashtags\"},\n",
      "    {\"$group\":{\"_id\":\"$entities.hashtags.text\", \"retweet_avg\":{\"$avg\":\"$retweet_count\"}}},\n",
      "    {\"$sort\":{\"retweet_avg\":-1} },\n",
      "    {\"$limit\":5}\n",
      "])\n",
      "pprint.pprint(rs)"
     ],
     "language": "python",
     "metadata": {},
     "outputs": [
      {
       "output_type": "stream",
       "stream": "stdout",
       "text": [
        "{u'ok': 1.0,\n",
        " u'result': [{u'_id': u'local', u'retweet_avg': 0.0},\n",
        "             {u'_id': u'a', u'retweet_avg': 0.0},\n",
        "             {u'_id': u'Frasesdegordinho', u'retweet_avg': 0.0},\n",
        "             {u'_id': u'eBayClassifieds', u'retweet_avg': 0.0},\n",
        "             {u'_id': u'loveu', u'retweet_avg': 0.0}]}\n"
       ]
      }
     ],
     "prompt_number": 56
    },
    {
     "cell_type": "code",
     "collapsed": false,
     "input": [
      "c = 0\n",
      "for a in db.tweets.find({\"entities.hashtags\":{\"$exists\":\"true\",\"$not\":{\"$size\":0}}, \"retweet_count\":{\"$gt\":0}}):\n",
      "    \n",
      "    print(a[\"entities\"][\"hashtags\"][0][\"text\"])\n",
      "    print(a[\"retweet_count\"])\n",
      "    if c>5:\n",
      "        break\n",
      "    \n",
      "    c += 1"
     ],
     "language": "python",
     "metadata": {},
     "outputs": [],
     "prompt_number": 89
    },
    {
     "cell_type": "code",
     "collapsed": false,
     "input": [
      "db = client.twitter\n",
      "rs = db.tweets.aggregate([\n",
      "    {\"$group\":{\"_id\":\"$uesr.screen_name\",\"count\":{\"$sum\":1},\"tweet_texts\":{\"$push\":\"$text\"} }},\n",
      "    {\"$sort\":{\"count\":-1} },\n",
      "    {\"$limit\":5}\n",
      "])\n",
      "pprint.pprint(rs)"
     ],
     "language": "python",
     "metadata": {},
     "outputs": []
    },
    {
     "cell_type": "code",
     "collapsed": false,
     "input": [
      "db = client.examples\n",
      "rs = db.cities.aggregate([\n",
      "    {\"$match\":{\"country\":\"India\"}},\n",
      "    {},\n",
      "])\n",
      "for a in rs:\n",
      "    pprint.pprint(a)\n",
      "#pprint.pprint(rs)"
     ],
     "language": "python",
     "metadata": {},
     "outputs": [
      {
       "output_type": "stream",
       "stream": "stdout",
       "text": [
        "u'ok'\n",
        "u'result'\n"
       ]
      }
     ],
     "prompt_number": 94
    },
    {
     "cell_type": "code",
     "collapsed": false,
     "input": [
      "db.cities.find().count()"
     ],
     "language": "python",
     "metadata": {},
     "outputs": [
      {
       "metadata": {},
       "output_type": "pyout",
       "prompt_number": 96,
       "text": [
        "20232"
       ]
      }
     ],
     "prompt_number": 96
    },
    {
     "cell_type": "code",
     "collapsed": false,
     "input": [],
     "language": "python",
     "metadata": {},
     "outputs": []
    }
   ],
   "metadata": {}
  }
 ]
}