{
 "metadata": {
  "name": "",
  "signature": "sha256:81b8e3280a2e7b9d04b8b232b88203031fe620c4275cef7299196fef93c2c2c2"
 },
 "nbformat": 3,
 "nbformat_minor": 0,
 "worksheets": [
  {
   "cells": [
    {
     "cell_type": "heading",
     "level": 1,
     "metadata": {},
     "source": [
      "Monty Hall"
     ]
    },
    {
     "cell_type": "markdown",
     "metadata": {},
     "source": [
      "Simulation of the Monty Hall problem"
     ]
    },
    {
     "cell_type": "code",
     "collapsed": false,
     "input": [
      "import random as rnd\n",
      "# set seed to make results reproducible\n",
      "rnd.seed(310)\n",
      "same = []\n",
      "switch = []\n",
      "\n",
      "# simulate N times\n",
      "N = 1000\n",
      "for i in range(1,N+1):\n",
      "    # randomly place the prize in one of the three rooms\n",
      "    prize = rnd.randint(1,3)\n",
      "    # the contestant randomly pick a door\n",
      "    choice = rnd.randint(1,3)    \n",
      "    # let's open one of the empty doors\n",
      "    # the door shouldn't contain the prize\n",
      "    # and shouldn't be the constestant's choice\n",
      "    options = [1,2,3]\n",
      "    if choice in options:\n",
      "        options.remove(choice)\n",
      "    if prize in options:\n",
      "        options.remove(prize)\n",
      "    goat1 = options[0]\n",
      "    \n",
      "    # is the prize behind the contestant's choice?\n",
      "    # add a 1 to the \"same\" list if it is and a 0 if it's not\n",
      "    if choice == prize:\n",
      "        same.append(1)\n",
      "    else:\n",
      "        same.append(0)\n",
      "    \n",
      "    # how about switching?\n",
      "    options = [1,2,3]\n",
      "    options.remove(choice)\n",
      "    options.remove(goat1)\n",
      "    \n",
      "    if options[0] == prize:\n",
      "        switch.append(1)\n",
      "    else:\n",
      "        switch.append(0)\n",
      "        \n",
      "print \"Same: \" + str(sum(same)) + \" (\" + str(100 * sum(same)/N) + \"%)\"\n",
      "print \"Switch: \" + str(sum(switch)) + \" (\" + str(100 * sum(switch)/N) + \"%)\""
     ],
     "language": "python",
     "metadata": {},
     "outputs": [
      {
       "output_type": "stream",
       "stream": "stdout",
       "text": [
        "Same: 330 (33%)\n",
        "Switch: 670 (67%)\n"
       ]
      }
     ],
     "prompt_number": 11
    },
    {
     "cell_type": "code",
     "collapsed": false,
     "input": [],
     "language": "python",
     "metadata": {},
     "outputs": []
    }
   ],
   "metadata": {}
  }
 ]
}