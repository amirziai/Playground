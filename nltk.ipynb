{
 "metadata": {
  "name": "",
  "signature": "sha256:fd9cab5f4c1b77f8c4479f5bcfc9f266ad6198d14ca6b17f45e82de602476ec9"
 },
 "nbformat": 3,
 "nbformat_minor": 0,
 "worksheets": [
  {
   "cells": [
    {
     "cell_type": "code",
     "collapsed": false,
     "input": [
      "import nltk\n",
      "from nltk.corpus import stopwords\n",
      "\n",
      "customstopwords = ['band', 'they', 'them']\n",
      "\n",
      "p = open('C:/Users/arzia_000/Desktop/data/twitter/postweets.txt','r')\n",
      "postxt = p.readlines()\n",
      "\n",
      "n = open('C:/Users/arzia_000/Desktop/data/twitter/negtweets.txt','r')\n",
      "negtxt = n.readlines()\n",
      "\n",
      "poslist = []\n",
      "neglist = []\n",
      "\n",
      "for i in range(0,len(negtxt)):\n",
      "    neglist.append('negative')\n",
      "    \n",
      "for i in range(0,len(postxt)):\n",
      "    poslist.append('positive')\n",
      "    \n",
      "postagged = zip(postxt, poslist)\n",
      "negtagged = zip(negtxt, neglist)\n",
      "\n",
      "taggedtweets = postagged + negtagged\n"
     ],
     "language": "python",
     "metadata": {},
     "outputs": [],
     "prompt_number": 6
    },
    {
     "cell_type": "code",
     "collapsed": false,
     "input": [
      "tweets = []\n",
      "\n",
      "for (word, sentiment) in taggedtweets:\n",
      "    word_filter = [i.lower() for i in word.split()]\n",
      "    tweets.append((word_filter, sentiment))\n",
      "    \n",
      "def getwords(tweets):\n",
      "    allwords = []\n",
      "    for (words, sentiment) in tweets:\n",
      "        allwords.extend(words)\n",
      "        return allwords\n",
      "    \n",
      "def getwordfeatures(listoftweets):\n",
      "    wordfreq = nltk.FreqDist(listoftweets)\n",
      "    words = wordfreq.keys()\n",
      "    return words\n",
      "\n",
      "print getwordfeatures(getwords(tweets))"
     ],
     "language": "python",
     "metadata": {},
     "outputs": [
      {
       "output_type": "stream",
       "stream": "stdout",
       "text": [
        "['album', 'i', 'love', 'new', 'their']\n"
       ]
      }
     ],
     "prompt_number": 7
    },
    {
     "cell_type": "code",
     "collapsed": false,
     "input": [
      "wordlist = [i for i in wordlist if not i in stopwords.words('english')]\n",
      "wordlist = [i for i in wordlist if not i in customstopwords]"
     ],
     "language": "python",
     "metadata": {},
     "outputs": [
      {
       "ename": "NameError",
       "evalue": "name 'wordlist' is not defined",
       "output_type": "pyerr",
       "traceback": [
        "\u001b[1;31m---------------------------------------------------------------------------\u001b[0m\n\u001b[1;31mNameError\u001b[0m                                 Traceback (most recent call last)",
        "\u001b[1;32m<ipython-input-8-6c52f9971359>\u001b[0m in \u001b[0;36m<module>\u001b[1;34m()\u001b[0m\n\u001b[1;32m----> 1\u001b[1;33m \u001b[0mwordlist\u001b[0m \u001b[1;33m=\u001b[0m \u001b[1;33m[\u001b[0m\u001b[0mi\u001b[0m \u001b[1;32mfor\u001b[0m \u001b[0mi\u001b[0m \u001b[1;32min\u001b[0m \u001b[0mwordlist\u001b[0m \u001b[1;32mif\u001b[0m \u001b[1;32mnot\u001b[0m \u001b[0mi\u001b[0m \u001b[1;32min\u001b[0m \u001b[0mstopwords\u001b[0m\u001b[1;33m.\u001b[0m\u001b[0mwords\u001b[0m\u001b[1;33m(\u001b[0m\u001b[1;34m'english'\u001b[0m\u001b[1;33m)\u001b[0m\u001b[1;33m]\u001b[0m\u001b[1;33m\u001b[0m\u001b[0m\n\u001b[0m\u001b[0;32m      2\u001b[0m \u001b[0mwordlist\u001b[0m \u001b[1;33m=\u001b[0m \u001b[1;33m[\u001b[0m\u001b[0mi\u001b[0m \u001b[1;32mfor\u001b[0m \u001b[0mi\u001b[0m \u001b[1;32min\u001b[0m \u001b[0mwordlist\u001b[0m \u001b[1;32mif\u001b[0m \u001b[1;32mnot\u001b[0m \u001b[0mi\u001b[0m \u001b[1;32min\u001b[0m \u001b[0mcustomstopwords\u001b[0m\u001b[1;33m]\u001b[0m\u001b[1;33m\u001b[0m\u001b[0m\n",
        "\u001b[1;31mNameError\u001b[0m: name 'wordlist' is not defined"
       ]
      }
     ],
     "prompt_number": 8
    },
    {
     "cell_type": "code",
     "collapsed": false,
     "input": [
      "pos_tweets = [('I love this car', 'positive'),\n",
      "              ('This view is amazing', 'positive'),\n",
      "              ('I feel great this morning', 'positive'),\n",
      "              ('I am so excited about the concert', 'positive'),\n",
      "              ('He is my best friend', 'positive')]\n",
      "\n",
      "neg_tweets = [('I do not like this car', 'negative'),\n",
      "              ('This view is horrible', 'negative'),\n",
      "              ('I feel tired this morning', 'negative'),\n",
      "              ('I am not looking forward to the concert', 'negative'),\n",
      "              ('He is my enemy', 'negative')]\n",
      "\n"
     ],
     "language": "python",
     "metadata": {},
     "outputs": [],
     "prompt_number": 3
    },
    {
     "cell_type": "code",
     "collapsed": false,
     "input": [
      "tweets = []\n",
      "for (words, sentiment) in pos_tweets + neg_tweets:\n",
      "    words_filtered = [e.lower() for e in words.split() if len(e) >= 3]\n",
      "    tweets.append((words_filtered,sentiment))"
     ],
     "language": "python",
     "metadata": {},
     "outputs": [],
     "prompt_number": 7
    },
    {
     "cell_type": "code",
     "collapsed": false,
     "input": [
      "def get_words_in_tweets(tweets):\n",
      "    all_words = []\n",
      "    for (words, sentiment) in tweets:\n",
      "        all_words.extend(words)\n",
      "    return all_words\n",
      "\n",
      "def get_word_features(wordlist):\n",
      "    wordlist = nltk.FreqDist(wordlist)\n",
      "    word_features = wordlist.keys()\n",
      "    return word_features\n",
      "\n",
      "#nltk.FreqDist(get_words_in_tweets(tweets)).keys()\n",
      "word_features = get_word_features(get_words_in_tweets(tweets))"
     ],
     "language": "python",
     "metadata": {},
     "outputs": [],
     "prompt_number": 8
    },
    {
     "cell_type": "code",
     "collapsed": false,
     "input": [
      "def extract_features(document):\n",
      "    document_words = set(document)\n",
      "    features = {}\n",
      "    for word in word_features:\n",
      "        features['contains(%s)' % word] = (word in document_words)\n",
      "    return features"
     ],
     "language": "python",
     "metadata": {},
     "outputs": [],
     "prompt_number": 9
    },
    {
     "cell_type": "code",
     "collapsed": false,
     "input": [
      "extract_features(['love','this','car'])"
     ],
     "language": "python",
     "metadata": {},
     "outputs": [
      {
       "metadata": {},
       "output_type": "pyout",
       "prompt_number": 10,
       "text": [
        "{'contains(about)': False,\n",
        " 'contains(amazing)': False,\n",
        " 'contains(best)': False,\n",
        " 'contains(car)': True,\n",
        " 'contains(concert)': False,\n",
        " 'contains(enemy)': False,\n",
        " 'contains(excited)': False,\n",
        " 'contains(feel)': False,\n",
        " 'contains(forward)': False,\n",
        " 'contains(friend)': False,\n",
        " 'contains(great)': False,\n",
        " 'contains(horrible)': False,\n",
        " 'contains(like)': False,\n",
        " 'contains(looking)': False,\n",
        " 'contains(love)': True,\n",
        " 'contains(morning)': False,\n",
        " 'contains(not)': False,\n",
        " 'contains(the)': False,\n",
        " 'contains(this)': True,\n",
        " 'contains(tired)': False,\n",
        " 'contains(view)': False}"
       ]
      }
     ],
     "prompt_number": 10
    },
    {
     "cell_type": "code",
     "collapsed": false,
     "input": [
      "training_set = nltk.classify.apply_features(extract_features, tweets)"
     ],
     "language": "python",
     "metadata": {},
     "outputs": [],
     "prompt_number": 12
    },
    {
     "cell_type": "code",
     "collapsed": false,
     "input": [
      "classifier = nltk.NaiveBayesClassifier.train(training_set)"
     ],
     "language": "python",
     "metadata": {},
     "outputs": [],
     "prompt_number": 15
    },
    {
     "cell_type": "code",
     "collapsed": false,
     "input": [
      "print classifier.show_most_informative_features(32)"
     ],
     "language": "python",
     "metadata": {},
     "outputs": [
      {
       "output_type": "stream",
       "stream": "stdout",
       "text": [
        "Most Informative Features\n",
        "           contains(not) = False          positi : negati =      1.6 : 1.0\n",
        "         contains(tired) = False          positi : negati =      1.2 : 1.0\n",
        "       contains(excited) = False          negati : positi =      1.2 : 1.0\n",
        "         contains(great) = False          negati : positi =      1.2 : 1.0\n",
        "          contains(like) = False          positi : negati =      1.2 : 1.0\n",
        "          contains(love) = False          negati : positi =      1.2 : 1.0\n",
        "       contains(amazing) = False          negati : positi =      1.2 : 1.0\n",
        "       contains(looking) = False          positi : negati =      1.2 : 1.0\n",
        "         contains(enemy) = False          positi : negati =      1.2 : 1.0\n",
        "         contains(about) = False          negati : positi =      1.2 : 1.0\n",
        "          contains(best) = False          negati : positi =      1.2 : 1.0\n",
        "       contains(forward) = False          positi : negati =      1.2 : 1.0\n",
        "        contains(friend) = False          negati : positi =      1.2 : 1.0\n",
        "      contains(horrible) = False          positi : negati =      1.2 : 1.0\n",
        "          contains(feel) = True           negati : positi =      1.0 : 1.0\n",
        "           contains(the) = False          negati : positi =      1.0 : 1.0\n",
        "           contains(the) = True           negati : positi =      1.0 : 1.0\n",
        "       contains(concert) = True           negati : positi =      1.0 : 1.0\n",
        "           contains(car) = True           negati : positi =      1.0 : 1.0\n",
        "       contains(morning) = True           negati : positi =      1.0 : 1.0\n",
        "          contains(view) = True           negati : positi =      1.0 : 1.0\n",
        "          contains(this) = False          negati : positi =      1.0 : 1.0\n",
        "       contains(concert) = False          negati : positi =      1.0 : 1.0\n",
        "           contains(car) = False          negati : positi =      1.0 : 1.0\n",
        "       contains(morning) = False          negati : positi =      1.0 : 1.0\n",
        "          contains(view) = False          negati : positi =      1.0 : 1.0\n",
        "None\n"
       ]
      }
     ],
     "prompt_number": 17
    },
    {
     "cell_type": "code",
     "collapsed": false,
     "input": [
      "from nltk import pos_tag,word_tokenize"
     ],
     "language": "python",
     "metadata": {},
     "outputs": [],
     "prompt_number": 24
    },
    {
     "cell_type": "code",
     "collapsed": false,
     "input": [
      "sentence1 = 'this is a demo that will show you how to detects parts of speech with little effort using NLTK!'\n",
      "tokenized_sent = word_tokenize(sentence1)\n",
      "tokenized_sent"
     ],
     "language": "python",
     "metadata": {},
     "outputs": [
      {
       "metadata": {},
       "output_type": "pyout",
       "prompt_number": 26,
       "text": [
        "['this',\n",
        " 'is',\n",
        " 'a',\n",
        " 'demo',\n",
        " 'that',\n",
        " 'will',\n",
        " 'show',\n",
        " 'you',\n",
        " 'how',\n",
        " 'to',\n",
        " 'detects',\n",
        " 'parts',\n",
        " 'of',\n",
        " 'speech',\n",
        " 'with',\n",
        " 'little',\n",
        " 'effort',\n",
        " 'using',\n",
        " 'NLTK',\n",
        " '!']"
       ]
      }
     ],
     "prompt_number": 26
    },
    {
     "cell_type": "code",
     "collapsed": false,
     "input": [
      "from scrapy import Spider, Item, Field"
     ],
     "language": "python",
     "metadata": {},
     "outputs": [
      {
       "ename": "ImportError",
       "evalue": "Twisted requires zope.interface 3.6.0 or later: no module named zope.interface.",
       "output_type": "pyerr",
       "traceback": [
        "\u001b[1;31m---------------------------------------------------------------------------\u001b[0m\n\u001b[1;31mImportError\u001b[0m                               Traceback (most recent call last)",
        "\u001b[1;32m<ipython-input-27-e8c0602a7ad1>\u001b[0m in \u001b[0;36m<module>\u001b[1;34m()\u001b[0m\n\u001b[1;32m----> 1\u001b[1;33m \u001b[1;32mfrom\u001b[0m \u001b[0mscrapy\u001b[0m \u001b[1;32mimport\u001b[0m \u001b[0mSpider\u001b[0m\u001b[1;33m,\u001b[0m \u001b[0mItem\u001b[0m\u001b[1;33m,\u001b[0m \u001b[0mField\u001b[0m\u001b[1;33m\u001b[0m\u001b[0m\n\u001b[0m",
        "\u001b[1;32mC:\\Users\\arzia_000\\Anaconda\\lib\\site-packages\\scrapy\\__init__.py\u001b[0m in \u001b[0;36m<module>\u001b[1;34m()\u001b[0m\n\u001b[0;32m     48\u001b[0m     \u001b[0moptional_features\u001b[0m\u001b[1;33m.\u001b[0m\u001b[0madd\u001b[0m\u001b[1;33m(\u001b[0m\u001b[1;34m'django'\u001b[0m\u001b[1;33m)\u001b[0m\u001b[1;33m\u001b[0m\u001b[0m\n\u001b[0;32m     49\u001b[0m \u001b[1;33m\u001b[0m\u001b[0m\n\u001b[1;32m---> 50\u001b[1;33m \u001b[1;32mfrom\u001b[0m \u001b[0mtwisted\u001b[0m \u001b[1;32mimport\u001b[0m \u001b[0mversion\u001b[0m \u001b[1;32mas\u001b[0m \u001b[0m_txv\u001b[0m\u001b[1;33m\u001b[0m\u001b[0m\n\u001b[0m\u001b[0;32m     51\u001b[0m \u001b[0mtwisted_version\u001b[0m \u001b[1;33m=\u001b[0m \u001b[1;33m(\u001b[0m\u001b[0m_txv\u001b[0m\u001b[1;33m.\u001b[0m\u001b[0mmajor\u001b[0m\u001b[1;33m,\u001b[0m \u001b[0m_txv\u001b[0m\u001b[1;33m.\u001b[0m\u001b[0mminor\u001b[0m\u001b[1;33m,\u001b[0m \u001b[0m_txv\u001b[0m\u001b[1;33m.\u001b[0m\u001b[0mmicro\u001b[0m\u001b[1;33m)\u001b[0m\u001b[1;33m\u001b[0m\u001b[0m\n\u001b[0;32m     52\u001b[0m \u001b[1;32mif\u001b[0m \u001b[0mtwisted_version\u001b[0m \u001b[1;33m>=\u001b[0m \u001b[1;33m(\u001b[0m\u001b[1;36m11\u001b[0m\u001b[1;33m,\u001b[0m \u001b[1;36m1\u001b[0m\u001b[1;33m,\u001b[0m \u001b[1;36m0\u001b[0m\u001b[1;33m)\u001b[0m\u001b[1;33m:\u001b[0m\u001b[1;33m\u001b[0m\u001b[0m\n",
        "\u001b[1;32mC:\\Users\\arzia_000\\Anaconda\\lib\\site-packages\\twisted\\__init__.py\u001b[0m in \u001b[0;36m<module>\u001b[1;34m()\u001b[0m\n\u001b[0;32m     51\u001b[0m         \u001b[1;32mraise\u001b[0m \u001b[0mImportError\u001b[0m\u001b[1;33m(\u001b[0m\u001b[0mrequired\u001b[0m \u001b[1;33m+\u001b[0m \u001b[1;34m\".\"\u001b[0m\u001b[1;33m)\u001b[0m\u001b[1;33m\u001b[0m\u001b[0m\n\u001b[0;32m     52\u001b[0m \u001b[1;33m\u001b[0m\u001b[0m\n\u001b[1;32m---> 53\u001b[1;33m \u001b[0m_checkRequirements\u001b[0m\u001b[1;33m(\u001b[0m\u001b[1;33m)\u001b[0m\u001b[1;33m\u001b[0m\u001b[0m\n\u001b[0m\u001b[0;32m     54\u001b[0m \u001b[1;33m\u001b[0m\u001b[0m\n\u001b[0;32m     55\u001b[0m \u001b[1;31m# Ensure compat gets imported\u001b[0m\u001b[1;33m\u001b[0m\u001b[1;33m\u001b[0m\u001b[0m\n",
        "\u001b[1;32mC:\\Users\\arzia_000\\Anaconda\\lib\\site-packages\\twisted\\__init__.py\u001b[0m in \u001b[0;36m_checkRequirements\u001b[1;34m()\u001b[0m\n\u001b[0;32m     35\u001b[0m     \u001b[1;32mexcept\u001b[0m \u001b[0mImportError\u001b[0m\u001b[1;33m:\u001b[0m\u001b[1;33m\u001b[0m\u001b[0m\n\u001b[0;32m     36\u001b[0m         \u001b[1;31m# It isn't installed.\u001b[0m\u001b[1;33m\u001b[0m\u001b[1;33m\u001b[0m\u001b[0m\n\u001b[1;32m---> 37\u001b[1;33m         \u001b[1;32mraise\u001b[0m \u001b[0mImportError\u001b[0m\u001b[1;33m(\u001b[0m\u001b[0mrequired\u001b[0m \u001b[1;33m+\u001b[0m \u001b[1;34m\": no module named zope.interface.\"\u001b[0m\u001b[1;33m)\u001b[0m\u001b[1;33m\u001b[0m\u001b[0m\n\u001b[0m\u001b[0;32m     38\u001b[0m     \u001b[1;32mexcept\u001b[0m\u001b[1;33m:\u001b[0m\u001b[1;33m\u001b[0m\u001b[0m\n\u001b[0;32m     39\u001b[0m         \u001b[1;31m# It is installed but not compatible with this version of Python.\u001b[0m\u001b[1;33m\u001b[0m\u001b[1;33m\u001b[0m\u001b[0m\n",
        "\u001b[1;31mImportError\u001b[0m: Twisted requires zope.interface 3.6.0 or later: no module named zope.interface."
       ]
      }
     ],
     "prompt_number": 27
    },
    {
     "cell_type": "code",
     "collapsed": false,
     "input": [
      "import scrapy"
     ],
     "language": "python",
     "metadata": {},
     "outputs": [
      {
       "ename": "ImportError",
       "evalue": "Twisted requires zope.interface 3.6.0 or later: no module named zope.interface.",
       "output_type": "pyerr",
       "traceback": [
        "\u001b[1;31m---------------------------------------------------------------------------\u001b[0m\n\u001b[1;31mImportError\u001b[0m                               Traceback (most recent call last)",
        "\u001b[1;32m<ipython-input-28-51c73a18167b>\u001b[0m in \u001b[0;36m<module>\u001b[1;34m()\u001b[0m\n\u001b[1;32m----> 1\u001b[1;33m \u001b[1;32mimport\u001b[0m \u001b[0mscrapy\u001b[0m\u001b[1;33m\u001b[0m\u001b[0m\n\u001b[0m",
        "\u001b[1;32mC:\\Users\\arzia_000\\Anaconda\\lib\\site-packages\\scrapy\\__init__.py\u001b[0m in \u001b[0;36m<module>\u001b[1;34m()\u001b[0m\n\u001b[0;32m     48\u001b[0m     \u001b[0moptional_features\u001b[0m\u001b[1;33m.\u001b[0m\u001b[0madd\u001b[0m\u001b[1;33m(\u001b[0m\u001b[1;34m'django'\u001b[0m\u001b[1;33m)\u001b[0m\u001b[1;33m\u001b[0m\u001b[0m\n\u001b[0;32m     49\u001b[0m \u001b[1;33m\u001b[0m\u001b[0m\n\u001b[1;32m---> 50\u001b[1;33m \u001b[1;32mfrom\u001b[0m \u001b[0mtwisted\u001b[0m \u001b[1;32mimport\u001b[0m \u001b[0mversion\u001b[0m \u001b[1;32mas\u001b[0m \u001b[0m_txv\u001b[0m\u001b[1;33m\u001b[0m\u001b[0m\n\u001b[0m\u001b[0;32m     51\u001b[0m \u001b[0mtwisted_version\u001b[0m \u001b[1;33m=\u001b[0m \u001b[1;33m(\u001b[0m\u001b[0m_txv\u001b[0m\u001b[1;33m.\u001b[0m\u001b[0mmajor\u001b[0m\u001b[1;33m,\u001b[0m \u001b[0m_txv\u001b[0m\u001b[1;33m.\u001b[0m\u001b[0mminor\u001b[0m\u001b[1;33m,\u001b[0m \u001b[0m_txv\u001b[0m\u001b[1;33m.\u001b[0m\u001b[0mmicro\u001b[0m\u001b[1;33m)\u001b[0m\u001b[1;33m\u001b[0m\u001b[0m\n\u001b[0;32m     52\u001b[0m \u001b[1;32mif\u001b[0m \u001b[0mtwisted_version\u001b[0m \u001b[1;33m>=\u001b[0m \u001b[1;33m(\u001b[0m\u001b[1;36m11\u001b[0m\u001b[1;33m,\u001b[0m \u001b[1;36m1\u001b[0m\u001b[1;33m,\u001b[0m \u001b[1;36m0\u001b[0m\u001b[1;33m)\u001b[0m\u001b[1;33m:\u001b[0m\u001b[1;33m\u001b[0m\u001b[0m\n",
        "\u001b[1;32mC:\\Users\\arzia_000\\Anaconda\\lib\\site-packages\\twisted\\__init__.py\u001b[0m in \u001b[0;36m<module>\u001b[1;34m()\u001b[0m\n\u001b[0;32m     51\u001b[0m         \u001b[1;32mraise\u001b[0m \u001b[0mImportError\u001b[0m\u001b[1;33m(\u001b[0m\u001b[0mrequired\u001b[0m \u001b[1;33m+\u001b[0m \u001b[1;34m\".\"\u001b[0m\u001b[1;33m)\u001b[0m\u001b[1;33m\u001b[0m\u001b[0m\n\u001b[0;32m     52\u001b[0m \u001b[1;33m\u001b[0m\u001b[0m\n\u001b[1;32m---> 53\u001b[1;33m \u001b[0m_checkRequirements\u001b[0m\u001b[1;33m(\u001b[0m\u001b[1;33m)\u001b[0m\u001b[1;33m\u001b[0m\u001b[0m\n\u001b[0m\u001b[0;32m     54\u001b[0m \u001b[1;33m\u001b[0m\u001b[0m\n\u001b[0;32m     55\u001b[0m \u001b[1;31m# Ensure compat gets imported\u001b[0m\u001b[1;33m\u001b[0m\u001b[1;33m\u001b[0m\u001b[0m\n",
        "\u001b[1;32mC:\\Users\\arzia_000\\Anaconda\\lib\\site-packages\\twisted\\__init__.py\u001b[0m in \u001b[0;36m_checkRequirements\u001b[1;34m()\u001b[0m\n\u001b[0;32m     35\u001b[0m     \u001b[1;32mexcept\u001b[0m \u001b[0mImportError\u001b[0m\u001b[1;33m:\u001b[0m\u001b[1;33m\u001b[0m\u001b[0m\n\u001b[0;32m     36\u001b[0m         \u001b[1;31m# It isn't installed.\u001b[0m\u001b[1;33m\u001b[0m\u001b[1;33m\u001b[0m\u001b[0m\n\u001b[1;32m---> 37\u001b[1;33m         \u001b[1;32mraise\u001b[0m \u001b[0mImportError\u001b[0m\u001b[1;33m(\u001b[0m\u001b[0mrequired\u001b[0m \u001b[1;33m+\u001b[0m \u001b[1;34m\": no module named zope.interface.\"\u001b[0m\u001b[1;33m)\u001b[0m\u001b[1;33m\u001b[0m\u001b[0m\n\u001b[0m\u001b[0;32m     38\u001b[0m     \u001b[1;32mexcept\u001b[0m\u001b[1;33m:\u001b[0m\u001b[1;33m\u001b[0m\u001b[0m\n\u001b[0;32m     39\u001b[0m         \u001b[1;31m# It is installed but not compatible with this version of Python.\u001b[0m\u001b[1;33m\u001b[0m\u001b[1;33m\u001b[0m\u001b[0m\n",
        "\u001b[1;31mImportError\u001b[0m: Twisted requires zope.interface 3.6.0 or later: no module named zope.interface."
       ]
      }
     ],
     "prompt_number": 28
    },
    {
     "cell_type": "code",
     "collapsed": false,
     "input": [
      "scrapy startproject tutorial"
     ],
     "language": "python",
     "metadata": {},
     "outputs": [
      {
       "ename": "SyntaxError",
       "evalue": "invalid syntax (<ipython-input-30-9fa7dcba565c>, line 1)",
       "output_type": "pyerr",
       "traceback": [
        "\u001b[1;36m  File \u001b[1;32m\"<ipython-input-30-9fa7dcba565c>\"\u001b[1;36m, line \u001b[1;32m1\u001b[0m\n\u001b[1;33m    scrapy startproject tutorial\u001b[0m\n\u001b[1;37m                      ^\u001b[0m\n\u001b[1;31mSyntaxError\u001b[0m\u001b[1;31m:\u001b[0m invalid syntax\n"
       ]
      }
     ],
     "prompt_number": 30
    },
    {
     "cell_type": "code",
     "collapsed": false,
     "input": [],
     "language": "python",
     "metadata": {},
     "outputs": []
    }
   ],
   "metadata": {}
  }
 ]
}