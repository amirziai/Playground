{
 "metadata": {
  "name": "",
  "signature": "sha256:181399dfc0dc9f9e1eccc07d0c34dfa9b7919dc99142f9eedb065630312896ee"
 },
 "nbformat": 3,
 "nbformat_minor": 0,
 "worksheets": [
  {
   "cells": [
    {
     "cell_type": "code",
     "collapsed": false,
     "input": [
      "import pandas as pd\n",
      "import matplotlib.pylab as plt\n",
      "\n",
      "d = pd.read_csv('../data/learn_model/datasets/iris.csv')"
     ],
     "language": "python",
     "metadata": {},
     "outputs": [],
     "prompt_number": 25
    },
    {
     "cell_type": "code",
     "collapsed": false,
     "input": [
      "setosa = d[d.Species == 'Iris-setosa']\n",
      "versicolor = d[d.Species == 'Iris-versicolor']\n",
      "virginica = d[d.Species == 'Iris-virginica']\n",
      "\n",
      "s = plot(setosa['SepalLength'],setosa['PetalLength'],'bo')\n",
      "vi = plot(virginica['SepalLength'],virginica['PetalLength'],'go')\n",
      "ve = plot(versicolor['SepalLength'],versicolor['PetalLength'],'ro')\n",
      "lx = ve[0].axes.set_xlabel('Sepal Length')\n",
      "ly = ve[0].axes.set_ylabel('Petal Length')"
     ],
     "language": "python",
     "metadata": {},
     "outputs": [
      {
       "metadata": {},
       "output_type": "display_data",
       "png": "[encoded data removed]",
       "text": [
        "<matplotlib.figure.Figure at 0xbbc8320>"
       ]
      }
     ],
     "prompt_number": 26
    },
    {
     "cell_type": "code",
     "collapsed": false,
     "input": [
      "d = pd.read_csv('../data/learn_model/datasets/UN.csv')"
     ],
     "language": "python",
     "metadata": {},
     "outputs": [],
     "prompt_number": 27
    },
    {
     "cell_type": "code",
     "collapsed": false,
     "input": [
      "#[(x, type(d[x][0])) for x in d.columns]\n",
      "for dd in d.columns:\n",
      "    print str(dd) + \" \" + str(type(d[dd][0]))"
     ],
     "language": "python",
     "metadata": {},
     "outputs": [
      {
       "output_type": "stream",
       "stream": "stdout",
       "text": [
        "country <type 'str'>\n",
        "region <type 'str'>\n",
        "tfr <type 'numpy.float64'>\n",
        "contraception <type 'numpy.float64'>\n",
        "educationMale <type 'numpy.float64'>\n",
        "educationFemale <type 'numpy.float64'>\n",
        "lifeMale <type 'numpy.float64'>\n",
        "lifeFemale <type 'numpy.float64'>\n",
        "infantMortality <type 'numpy.float64'>\n",
        "GDPperCapita <type 'numpy.float64'>\n",
        "economicActivityMale <type 'numpy.float64'>\n",
        "economicActivityFemale <type 'numpy.float64'>\n",
        "illiteracyMale <type 'numpy.float64'>\n",
        "illiteracyFemale <type 'numpy.float64'>\n"
       ]
      }
     ],
     "prompt_number": 38
    },
    {
     "cell_type": "code",
     "collapsed": false,
     "input": [
      "fName = ('../data/learn_model/datasets/UN4col.csv')\n",
      "fp = open(fName)\n",
      "X = np.loadtxt(fp)\n",
      "fp.close()"
     ],
     "language": "python",
     "metadata": {},
     "outputs": [],
     "prompt_number": 44
    },
    {
     "cell_type": "code",
     "collapsed": false,
     "input": [
      "import numpy as np\n",
      "from scipy.cluster.vq import kmeans,vq\n",
      "from scipy.spatial.distance import cdist\n",
      "import matplotlib.pyplot as plt\n",
      "\n",
      "K = range(1,10)\n",
      "\n",
      "KM = [kmeans(X,k) for k in K]\n",
      "centroids = [cent for (cent,var) in KM]\n",
      "\n",
      "D_k = [cdist(X, cent, 'euclidean') for cent in centroids]\n",
      "\n",
      "cIdx = [np.argmin(D,axis=1) for D in D_k]\n",
      "dist = [np.min(D,axis=1) for D in D_k]\n",
      "avgWithinSS = [sum(d)/X.shape[0] for d in dist]"
     ],
     "language": "python",
     "metadata": {},
     "outputs": [],
     "prompt_number": 47
    },
    {
     "cell_type": "code",
     "collapsed": false,
     "input": [
      "kIdx = 2\n",
      "# plot elbow curve\n",
      "fig = plt.figure()\n",
      "ax = fig.add_subplot(111)\n",
      "ax.plot(K, avgWithinSS, 'b*-')\n",
      "ax.plot(K, avgWithinSS, 'b*-')\n",
      "ax.plot(K[kIdx], avgWithinSS[kIdx], marker='o', markersize=12,markeredgewidth=2, markeredgecolor='r', markerfacecolor='None')\n",
      "plt.grid(True)\n",
      "plt.xlabel('Number of clusters')\n",
      "plt.ylabel('Average within-cluster sum of squares')\n",
      "tt = plt.title('Elbow for K-Means clustering')  "
     ],
     "language": "python",
     "metadata": {},
     "outputs": [
      {
       "metadata": {},
       "output_type": "display_data",
       "png": "[encoded data removed]",
       "text": [
        "<matplotlib.figure.Figure at 0xd1d9160>"
       ]
      }
     ],
     "prompt_number": 50
    },
    {
     "cell_type": "code",
     "collapsed": false,
     "input": [
      "#from sklearn.cluster import KMeans\n",
      "import sklearn\n",
      "km = sklearn.cluster.KMeans(3, init='k-means++') # initialize\n",
      "km.fit(X)\n",
      "c = km.predict(X) # classify into three clusters"
     ],
     "language": "python",
     "metadata": {},
     "outputs": [
      {
       "ename": "AttributeError",
       "evalue": "'module' object has no attribute 'cluster'",
       "output_type": "pyerr",
       "traceback": [
        "\u001b[1;31m---------------------------------------------------------------------------\u001b[0m\n\u001b[1;31mAttributeError\u001b[0m                            Traceback (most recent call last)",
        "\u001b[1;32m<ipython-input-55-f0391b1252b5>\u001b[0m in \u001b[0;36m<module>\u001b[1;34m()\u001b[0m\n\u001b[0;32m      1\u001b[0m \u001b[1;31m#from sklearn.cluster import KMeans\u001b[0m\u001b[1;33m\u001b[0m\u001b[1;33m\u001b[0m\u001b[0m\n\u001b[0;32m      2\u001b[0m \u001b[1;32mimport\u001b[0m \u001b[0msklearn\u001b[0m\u001b[1;33m\u001b[0m\u001b[0m\n\u001b[1;32m----> 3\u001b[1;33m \u001b[0mkm\u001b[0m \u001b[1;33m=\u001b[0m \u001b[0msklearn\u001b[0m\u001b[1;33m.\u001b[0m\u001b[0mcluster\u001b[0m\u001b[1;33m.\u001b[0m\u001b[0mKMeans\u001b[0m\u001b[1;33m(\u001b[0m\u001b[1;36m3\u001b[0m\u001b[1;33m,\u001b[0m \u001b[0minit\u001b[0m\u001b[1;33m=\u001b[0m\u001b[1;34m'k-means++'\u001b[0m\u001b[1;33m)\u001b[0m \u001b[1;31m# initialize\u001b[0m\u001b[1;33m\u001b[0m\u001b[0m\n\u001b[0m\u001b[0;32m      4\u001b[0m \u001b[0mkm\u001b[0m\u001b[1;33m.\u001b[0m\u001b[0mfit\u001b[0m\u001b[1;33m(\u001b[0m\u001b[0mX\u001b[0m\u001b[1;33m)\u001b[0m\u001b[1;33m\u001b[0m\u001b[0m\n\u001b[0;32m      5\u001b[0m \u001b[0mc\u001b[0m \u001b[1;33m=\u001b[0m \u001b[0mkm\u001b[0m\u001b[1;33m.\u001b[0m\u001b[0mpredict\u001b[0m\u001b[1;33m(\u001b[0m\u001b[0mX\u001b[0m\u001b[1;33m)\u001b[0m \u001b[1;31m# classify into three clusters\u001b[0m\u001b[1;33m\u001b[0m\u001b[0m\n",
        "\u001b[1;31mAttributeError\u001b[0m: 'module' object has no attribute 'cluster'"
       ]
      }
     ],
     "prompt_number": 55
    },
    {
     "cell_type": "code",
     "collapsed": false,
     "input": [],
     "language": "python",
     "metadata": {},
     "outputs": [],
     "prompt_number": 55
    },
    {
     "cell_type": "code",
     "collapsed": false,
     "input": [],
     "language": "python",
     "metadata": {},
     "outputs": []
    }
   ],
   "metadata": {}
  }
 ]
}