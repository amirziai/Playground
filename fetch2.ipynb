{
 "metadata": {
  "name": "",
  "signature": "sha256:6ad0991991b37f3a5d2cc05174903aa3e7efdf5e769e91516b8f63509a0d8e03"
 },
 "nbformat": 3,
 "nbformat_minor": 0,
 "worksheets": [
  {
   "cells": [
    {
     "cell_type": "code",
     "collapsed": false,
     "input": [
      "# connect to db\n",
      "import psycopg2\n",
      "conn = psycopg2.connect(\"dbname='sonos' user='chqadmin' password='H6$Se,8Bfn*x' host='data-science.cex3rfvdw0wv.us-west-2.redshift.amazonaws.com' port='5439'\")"
     ],
     "language": "python",
     "metadata": {},
     "outputs": [],
     "prompt_number": 2
    },
    {
     "cell_type": "code",
     "collapsed": false,
     "input": [
      "#query\n",
      "c = 0\n",
      "import csv\n",
      "with open('sonos_features.csv','rb') as f:\n",
      "    lines = csv.reader(f, delimiter=',')\n",
      "    for l in lines:\n",
      "        cur1 = conn.cursor()\n",
      "        cur1.execute(\"\"\"\n",
      "            select count(distinct users_id) from userproduct where serialnumber in\n",
      "            (select distinct serialnumber from userproduct where users_id = \"\"\" + str(l[0]) + \"\"\" and ispurchase=1)\n",
      "            and users_id != \"\"\" + str(l[0]))\n",
      "        rows = cur1.fetchall()\n",
      "        \n",
      "        cur2= conn.cursor()\n",
      "        cur2.execute(\"\"\"\n",
      "            select count(distinct users_id) from userdeviceevents where lookupservice_id is not null and users_id in\n",
      "            (\n",
      "                select count(distinct users_id) from userproduct where serialnumber in\n",
      "                    (select distinct serialnumber from userproduct where users_id = \"\"\" + str(l[0]) + \"\"\" and ispurchase=1)\n",
      "                and users_id != \"\"\" + str(l[0]) + \"\"\"\n",
      "            )\n",
      "        \"\"\")\n",
      "        services = cur2.fetchall()\n",
      "        \n",
      "        print l[1],l[2],l[3],rows[0][0],services[0][0]\n",
      "        if c>20:\n",
      "            break\n",
      "        c = c + 1"
     ],
     "language": "python",
     "metadata": {},
     "outputs": [
      {
       "output_type": "stream",
       "stream": "stdout",
       "text": [
        "1 1 1 0 1\n",
        "2"
       ]
      },
      {
       "output_type": "stream",
       "stream": "stdout",
       "text": [
        " 0 0 1 0\n",
        "2"
       ]
      },
      {
       "output_type": "stream",
       "stream": "stdout",
       "text": [
        " 1 0 0 1\n",
        "2"
       ]
      },
      {
       "output_type": "stream",
       "stream": "stdout",
       "text": [
        " 6 0 0 1\n",
        "2"
       ]
      },
      {
       "output_type": "stream",
       "stream": "stdout",
       "text": [
        " 4 0 1 0\n",
        "1"
       ]
      },
      {
       "output_type": "stream",
       "stream": "stdout",
       "text": [
        " 3 0 0 1\n",
        "2"
       ]
      },
      {
       "output_type": "stream",
       "stream": "stdout",
       "text": [
        " 0 0 1 0\n",
        "4"
       ]
      },
      {
       "output_type": "stream",
       "stream": "stdout",
       "text": [
        " 6 1 2 0\n",
        "1"
       ]
      },
      {
       "output_type": "stream",
       "stream": "stdout",
       "text": [
        " 3 0 1 0\n",
        "3"
       ]
      },
      {
       "output_type": "stream",
       "stream": "stdout",
       "text": [
        " 4 0 0 1\n",
        "2"
       ]
      },
      {
       "output_type": "stream",
       "stream": "stdout",
       "text": [
        " 1 0 0 1\n",
        "1"
       ]
      },
      {
       "output_type": "stream",
       "stream": "stdout",
       "text": [
        " 2 0 0 1\n",
        "1"
       ]
      },
      {
       "output_type": "stream",
       "stream": "stdout",
       "text": [
        " 0 0 0 1\n",
        "1"
       ]
      },
      {
       "output_type": "stream",
       "stream": "stdout",
       "text": [
        " 1 0 0 1\n",
        "1"
       ]
      },
      {
       "output_type": "stream",
       "stream": "stdout",
       "text": [
        " 1 0 0 1\n",
        "1"
       ]
      },
      {
       "output_type": "stream",
       "stream": "stdout",
       "text": [
        " 4 0 1 0\n",
        "1"
       ]
      },
      {
       "output_type": "stream",
       "stream": "stdout",
       "text": [
        " 2 0 3 0\n",
        "1"
       ]
      },
      {
       "output_type": "stream",
       "stream": "stdout",
       "text": [
        " 1 0 0 1\n",
        "1"
       ]
      },
      {
       "output_type": "stream",
       "stream": "stdout",
       "text": [
        " 0 1 0 1\n",
        "3"
       ]
      },
      {
       "output_type": "stream",
       "stream": "stdout",
       "text": [
        " 2 0 0 1\n",
        "1"
       ]
      },
      {
       "output_type": "stream",
       "stream": "stdout",
       "text": [
        " 2 0 0 1\n",
        "1"
       ]
      },
      {
       "output_type": "stream",
       "stream": "stdout",
       "text": [
        " 1 0 0 1\n"
       ]
      }
     ],
     "prompt_number": 11
    },
    {
     "cell_type": "code",
     "collapsed": false,
     "input": [],
     "language": "python",
     "metadata": {},
     "outputs": []
    }
   ],
   "metadata": {}
  }
 ]
}