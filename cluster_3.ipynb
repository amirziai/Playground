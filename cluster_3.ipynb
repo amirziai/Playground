{
 "metadata": {
  "name": "",
  "signature": "sha256:958e0e2283da650b29707d389c46f8ec4a51ca1c6038ac8ca41477f4a4fecd18"
 },
 "nbformat": 3,
 "nbformat_minor": 0,
 "worksheets": [
  {
   "cells": [
    {
     "cell_type": "code",
     "collapsed": false,
     "input": [
      "# connect to db\n",
      "import psycopg2\n",
      "conn = psycopg2.connect(\"dbname='sonos' user='chqadmin' password='H6$Se,8Bfn*x' host='data-science.cex3rfvdw0wv.us-west-2.redshift.amazonaws.com' port='5439'\")"
     ],
     "language": "python",
     "metadata": {},
     "outputs": [],
     "prompt_number": 1
    },
    {
     "cell_type": "code",
     "collapsed": false,
     "input": [
      "import csv\n",
      "with open('sonos_cluster_copy.csv','rb') as f:\n",
      "    lines = csv.reader(f, delimiter=',')\n",
      "    \n",
      "    with open('sonos_cluster_connections.csv','wb') as ff:\n",
      "        w = csv.writer(ff, delimiter = ',')\n",
      "        \n",
      "        \n",
      "        for l in lines:\n",
      "            user = str(l[0])\n",
      "\n",
      "            c1 = conn.cursor()\n",
      "            c1.execute(\"\"\"\n",
      "                select count(distinct users_id) from userproduct\n",
      "                where serialnumber in\n",
      "                (\n",
      "                    select distinct serialnumber from userproduct\n",
      "                        where users_id = \"\"\" + user + \"\"\" and\n",
      "                        products_id in (1008,1007,1006,1016,1021,1046,1012,1020,1025,1024,1023,1027,1043,1028,1029) and\n",
      "                        userproduct.isactive=1 and\n",
      "                        ispurchase=1\n",
      "                ) and\n",
      "                users_id != \"\"\" + user + \"\"\" and ispurchase = 0\"\"\")\n",
      "            connections = c1.fetchall()\n",
      "\n",
      "            c2 = conn.cursor()\n",
      "            c2.execute(\"\"\"\n",
      "                select count(distinct lookupservice_id) from userdeviceevents where lookupservice_id is not null and users_id in\n",
      "                (\n",
      "                    select distinct users_id from userproduct\n",
      "                        where serialnumber in\n",
      "                        (\n",
      "                            select distinct serialnumber from userproduct\n",
      "                                where users_id = \"\"\" + user + \"\"\" and\n",
      "                                products_id in (1008,1007,1006,1016,1021,1046,1012,1020,1025,1024,1023,1027,1043,1028,1029) and\n",
      "                                userproduct.isactive=1 and\n",
      "                                ispurchase=1\n",
      "                        ) and\n",
      "                        users_id != \"\"\" + user + \"\"\" and ispurchase=0\n",
      "                )\n",
      "            \"\"\")\n",
      "            connections_services = c2.fetchall()\n",
      "        \n",
      "            # write to new file\n",
      "            w.writerow([l[0],l[1],l[2],l[3],l[4],l[5],l[6],l[7],l[8],l[9],l[10],l[11],l[12],l[13],l[14],l[15],l[16],connections[0][0],connections_services[0][0]])"
     ],
     "language": "python",
     "metadata": {},
     "outputs": [
      {
       "output_type": "stream",
       "stream": "stderr",
       "text": [
        "ERROR: An unexpected error occurred while tokenizing input\n",
        "The following traceback may be corrupted or invalid\n",
        "The error message is: ('EOF in multi-line string', (1, 12))\n",
        "\n"
       ]
      },
      {
       "ename": "DatabaseError",
       "evalue": "server closed the connection unexpectedly\n\tThis probably means the server terminated abnormally\n\tbefore or while processing the request.\n",
       "output_type": "pyerr",
       "traceback": [
        "\u001b[1;31m---------------------------------------------------------------------------\u001b[0m\n\u001b[1;31mDatabaseError\u001b[0m                             Traceback (most recent call last)",
        "\u001b[1;32m<ipython-input-5-f3c5222ecb1c>\u001b[0m in \u001b[0;36m<module>\u001b[1;34m()\u001b[0m\n\u001b[0;32m     39\u001b[0m                         \u001b[0musers_id\u001b[0m \u001b[1;33m!=\u001b[0m \u001b[1;34m\"\"\" + user + \"\"\"\u001b[0m \u001b[1;32mand\u001b[0m \u001b[0mispurchase\u001b[0m\u001b[1;33m=\u001b[0m\u001b[1;36m0\u001b[0m\u001b[1;33m\u001b[0m\u001b[0m\n\u001b[0;32m     40\u001b[0m                 )\n\u001b[1;32m---> 41\u001b[1;33m             \"\"\")\n\u001b[0m\u001b[0;32m     42\u001b[0m             \u001b[0mconnections_services\u001b[0m \u001b[1;33m=\u001b[0m \u001b[0mc2\u001b[0m\u001b[1;33m.\u001b[0m\u001b[0mfetchall\u001b[0m\u001b[1;33m(\u001b[0m\u001b[1;33m)\u001b[0m\u001b[1;33m\u001b[0m\u001b[0m\n\u001b[0;32m     43\u001b[0m \u001b[1;33m\u001b[0m\u001b[0m\n",
        "\u001b[1;31mDatabaseError\u001b[0m: server closed the connection unexpectedly\n\tThis probably means the server terminated abnormally\n\tbefore or while processing the request.\n"
       ]
      }
     ],
     "prompt_number": 5
    },
    {
     "cell_type": "code",
     "collapsed": false,
     "input": [],
     "language": "python",
     "metadata": {},
     "outputs": []
    }
   ],
   "metadata": {}
  }
 ]
}