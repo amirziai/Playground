{
 "metadata": {
  "name": "",
  "signature": "sha256:9e2f0c1a632dd7ced5bfe67bd545a5f8fbabb831cbbf4c02a5549d5861038f92"
 },
 "nbformat": 3,
 "nbformat_minor": 0,
 "worksheets": [
  {
   "cells": [
    {
     "cell_type": "code",
     "collapsed": false,
     "input": [
      "import csv as csv\n",
      "import numpy as np\n",
      "\n",
      "csv_file_object = csv.reader(open('C:/Users/arzia_000/Desktop/data/titanic/train.csv','rb'))\n",
      "header = csv_file_object.next()\n",
      "\n",
      "data=[]\n",
      "for row in csv_file_object:\n",
      "    data.append(row)\n",
      "data = np.array(data)"
     ],
     "language": "python",
     "metadata": {},
     "outputs": [],
     "prompt_number": 3
    },
    {
     "cell_type": "code",
     "collapsed": false,
     "input": [
      "number_passengers = np.size(data[0::,1].astype(np.float))\n",
      "number_survived = np.sum(data[0::,1].astype(np.float))\n",
      "proportion_survivors = number_survived / number_passengers"
     ],
     "language": "python",
     "metadata": {},
     "outputs": [],
     "prompt_number": 10
    },
    {
     "cell_type": "code",
     "collapsed": false,
     "input": [
      "women_only_stats = data[0::,4] == 'female'\n",
      "men_only_stats = data[0::,4] != 'female'"
     ],
     "language": "python",
     "metadata": {},
     "outputs": [],
     "prompt_number": 11
    },
    {
     "cell_type": "code",
     "collapsed": false,
     "input": [
      "women_onboard = data[women_only_stats,1].astype(np.float)\n",
      "men_onboard = data[men_only_stats,1].astype(np.float)\n",
      "\n",
      "proportion_women_survived = np.sum(women_onboard) / np.size(women_onboard)\n",
      "proportion_men_survived = np.sum(men_onboard) / np.size(men_onboard)"
     ],
     "language": "python",
     "metadata": {},
     "outputs": [],
     "prompt_number": 18
    },
    {
     "cell_type": "code",
     "collapsed": false,
     "input": [
      "test_file = open('C:/Users/arzia_000/Desktop/data/titanic/test.csv','rb')\n",
      "test_file_object = csv.reader(test_file)\n",
      "header = test_file_object.next()\n",
      "\n",
      "prediction_file = open('C:/Users/arzia_000/Desktop/data/titanic/genderbasedmodel.csv','wb')\n",
      "prediction_file_object = csv.writer(prediction_file)\n",
      "\n",
      "prediction_file_object.writerow([\"PassengerId\",\"Survived\"])\n",
      "for row in test_file_object:\n",
      "    if row[3] == 'female':\n",
      "        prediction_file_object.writerow([row[0],'1'])\n",
      "    else:\n",
      "        prediction_file_object.writerow([row[0],'0'])\n",
      "test_file.close()\n",
      "prediction_file.close()"
     ],
     "language": "python",
     "metadata": {},
     "outputs": [],
     "prompt_number": 22
    },
    {
     "cell_type": "code",
     "collapsed": false,
     "input": [
      "fare_ceiling = 40\n",
      "data[data[0::,9].astype(np.float)>=fare_ceiling, 9] = fare_ceiling - 1.0\n",
      "fare_bracket_size = 10\n",
      "number_of_price_brackets = fare_ceiling / fare_bracket_size\n",
      "\n",
      "number_of_classes = 3\n",
      "number_of_classes = len(np.unique(data[0::,2]))\n",
      "\n",
      "survival_table = np.zeros((2, number_of_classes, number_of_price_brackets))"
     ],
     "language": "python",
     "metadata": {},
     "outputs": []
    }
   ],
   "metadata": {}
  }
 ]
}